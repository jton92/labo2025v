{
  "nbformat": 4,
  "nbformat_minor": 0,
  "metadata": {
    "colab": {
      "provenance": [],
      "include_colab_link": true
    },
    "kernelspec": {
      "name": "ir",
      "display_name": "R"
    },
    "language_info": {
      "name": "R"
    }
  },
  "cells": [
    {
      "cell_type": "markdown",
      "metadata": {
        "id": "view-in-github",
        "colab_type": "text"
      },
      "source": [
        "<a href=\"https://colab.research.google.com/github/jton92/labo2025v/blob/main/JTON_Optimizacion_Bayesiana_para_Arboles_Azarosos.ipynb\" target=\"_parent\"><img src=\"https://colab.research.google.com/assets/colab-badge.svg\" alt=\"Open In Colab\"/></a>"
      ]
    },
    {
      "cell_type": "markdown",
      "source": [
        "Aca correr con Python"
      ],
      "metadata": {
        "id": "i0Zw_kpmDaX-"
      }
    },
    {
      "cell_type": "code",
      "source": [
        "# primero establecer el Runtime de Python 3\n",
        "from google.colab import drive\n",
        "drive.mount('/content/.drive')"
      ],
      "metadata": {
        "colab": {
          "base_uri": "https://localhost:8080/"
        },
        "id": "V_NH8dAPDNma",
        "outputId": "e4e5837a-7658-4fa9-fdbb-40928c7bd8ba"
      },
      "execution_count": 1,
      "outputs": [
        {
          "output_type": "stream",
          "name": "stdout",
          "text": [
            "Mounted at /content/.drive\n"
          ]
        }
      ]
    },
    {
      "cell_type": "code",
      "source": [
        "%%shell\n",
        "\n",
        "mkdir -p \"/content/.drive/My Drive/labo1\"\n",
        "mkdir -p \"/content/buckets\"\n",
        "ln -s \"/content/.drive/My Drive/labo1\" /content/buckets/b1\n",
        "\n",
        "mkdir -p ~/.kaggle\n",
        "cp /content/buckets/b1/kaggle/kaggle.json  ~/.kaggle\n",
        "chmod 600 ~/.kaggle/kaggle.json\n",
        "\n",
        "\n",
        "mkdir -p /content/buckets/b1/exp\n",
        "mkdir -p /content/buckets/b1/datasets\n",
        "mkdir -p /content/datasets\n",
        "\n",
        "\n",
        "\n",
        "archivo_origen=\"https://storage.googleapis.com/open-courses/austral2025-af91/dataset_pequeno.csv\"\n",
        "archivo_destino=\"/content/datasets/dataset_pequeno.csv\"\n",
        "archivo_destino_bucket=\"/content/buckets/b1/datasets/dataset_pequeno.csv\"\n",
        "\n",
        "if ! test -f $archivo_destino_bucket; then\n",
        "  wget  $archivo_origen  -O $archivo_destino_bucket\n",
        "fi\n",
        "\n",
        "\n",
        "if ! test -f $archivo_destino; then\n",
        "  cp  $archivo_destino_bucket  $archivo_destino\n",
        "fi"
      ],
      "metadata": {
        "colab": {
          "base_uri": "https://localhost:8080/"
        },
        "id": "dLVxKlgWDNLa",
        "outputId": "33358b96-091b-4f8e-c6f3-e3253437c788"
      },
      "execution_count": 2,
      "outputs": [
        {
          "output_type": "execute_result",
          "data": {
            "text/plain": []
          },
          "metadata": {},
          "execution_count": 2
        }
      ]
    },
    {
      "cell_type": "markdown",
      "source": [
        "Aca correr con R"
      ],
      "metadata": {
        "id": "en9HwDn3DW_4"
      }
    },
    {
      "cell_type": "code",
      "source": [
        "# limpio la memoria\n",
        "rm(list=ls(all.names=TRUE)) # remove all objects\n",
        "gc(full=TRUE, verbose=FALSE) # garbage collection"
      ],
      "metadata": {
        "colab": {
          "base_uri": "https://localhost:8080/",
          "height": 129
        },
        "id": "a0XI79U0D2Pj",
        "outputId": "f339cab8-71bc-4705-8115-2b0bd33ccb71"
      },
      "execution_count": 1,
      "outputs": [
        {
          "output_type": "display_data",
          "data": {
            "text/html": [
              "<table class=\"dataframe\">\n",
              "<caption>A matrix: 2 × 6 of type dbl</caption>\n",
              "<thead>\n",
              "\t<tr><th></th><th scope=col>used</th><th scope=col>(Mb)</th><th scope=col>gc trigger</th><th scope=col>(Mb)</th><th scope=col>max used</th><th scope=col>(Mb)</th></tr>\n",
              "</thead>\n",
              "<tbody>\n",
              "\t<tr><th scope=row>Ncells</th><td> 657244</td><td>35.2</td><td>1454474</td><td>77.7</td><td>1326124</td><td>70.9</td></tr>\n",
              "\t<tr><th scope=row>Vcells</th><td>1220271</td><td> 9.4</td><td>8388608</td><td>64.0</td><td>1975128</td><td>15.1</td></tr>\n",
              "</tbody>\n",
              "</table>\n"
            ],
            "text/markdown": "\nA matrix: 2 × 6 of type dbl\n\n| <!--/--> | used | (Mb) | gc trigger | (Mb) | max used | (Mb) |\n|---|---|---|---|---|---|---|\n| Ncells |  657244 | 35.2 | 1454474 | 77.7 | 1326124 | 70.9 |\n| Vcells | 1220271 |  9.4 | 8388608 | 64.0 | 1975128 | 15.1 |\n\n",
            "text/latex": "A matrix: 2 × 6 of type dbl\n\\begin{tabular}{r|llllll}\n  & used & (Mb) & gc trigger & (Mb) & max used & (Mb)\\\\\n\\hline\n\tNcells &  657244 & 35.2 & 1454474 & 77.7 & 1326124 & 70.9\\\\\n\tVcells & 1220271 &  9.4 & 8388608 & 64.0 & 1975128 & 15.1\\\\\n\\end{tabular}\n",
            "text/plain": [
              "       used    (Mb) gc trigger (Mb) max used (Mb)\n",
              "Ncells  657244 35.2 1454474    77.7 1326124  70.9\n",
              "Vcells 1220271  9.4 8388608    64.0 1975128  15.1"
            ]
          },
          "metadata": {}
        }
      ]
    },
    {
      "cell_type": "code",
      "source": [
        "principio <- Sys.time()\n",
        "format(Sys.time(), \"%a %b %d %X %Y\")"
      ],
      "metadata": {
        "colab": {
          "base_uri": "https://localhost:8080/",
          "height": 34
        },
        "id": "wxnRVrMjgc04",
        "outputId": "d1512aa4-a80f-4fb1-a4b2-aa3acce2ba76"
      },
      "execution_count": 2,
      "outputs": [
        {
          "output_type": "display_data",
          "data": {
            "text/html": [
              "'Tue Oct 28 04:27:16 AM 2025'"
            ],
            "text/markdown": "'Tue Oct 28 04:27:16 AM 2025'",
            "text/latex": "'Tue Oct 28 04:27:16 AM 2025'",
            "text/plain": [
              "[1] \"Tue Oct 28 04:27:16 AM 2025\""
            ]
          },
          "metadata": {}
        }
      ]
    },
    {
      "cell_type": "code",
      "source": [
        "# Instalar librería (solo 1 vez)\n",
        "install.packages(\"ParBayesianOptimization\")\n",
        "\n",
        "# Cargar paquetes\n",
        "library(ParBayesianOptimization)\n",
        "# cargo las librerias que necesito\n",
        "require(\"data.table\")\n",
        "require(\"rpart\")"
      ],
      "metadata": {
        "colab": {
          "base_uri": "https://localhost:8080/"
        },
        "id": "ZAaAqDMxEY_S",
        "outputId": "db512bf4-c835-4794-aa8c-18c4ddf84fc7"
      },
      "execution_count": 4,
      "outputs": [
        {
          "output_type": "stream",
          "name": "stderr",
          "text": [
            "Installing package into ‘/usr/local/lib/R/site-library’\n",
            "(as ‘lib’ is unspecified)\n",
            "\n",
            "also installing the dependencies ‘rbibutils’, ‘Deriv’, ‘microbenchmark’, ‘Rdpack’, ‘numDeriv’, ‘doBy’, ‘SparseM’, ‘MatrixModels’, ‘minqa’, ‘nloptr’, ‘reformulas’, ‘RcppEigen’, ‘carData’, ‘abind’, ‘Formula’, ‘pbkrtest’, ‘quantreg’, ‘lme4’, ‘corrplot’, ‘car’, ‘iterators’, ‘ggrepel’, ‘ggsci’, ‘cowplot’, ‘ggsignif’, ‘gridExtra’, ‘polynom’, ‘rstatix’, ‘DiceKriging’, ‘foreach’, ‘dbscan’, ‘lhs’, ‘ggpubr’\n",
            "\n",
            "\n",
            "Loading required package: data.table\n",
            "\n",
            "Loading required package: rpart\n",
            "\n"
          ]
        }
      ]
    },
    {
      "cell_type": "code",
      "source": [
        "setwd(\"/content/buckets/b1/exp\")\n",
        "# lectura del dataset\n",
        "dataset <- fread(\"/content/datasets/dataset_pequeno.csv\")"
      ],
      "metadata": {
        "id": "5VAp6220ELnn"
      },
      "execution_count": 5,
      "outputs": []
    },
    {
      "cell_type": "code",
      "execution_count": 6,
      "metadata": {
        "colab": {
          "base_uri": "https://localhost:8080/"
        },
        "id": "44l4O0FC_2NU",
        "outputId": "5c4284bb-7b20-47db-9894-988fc53aac35"
      },
      "outputs": [
        {
          "output_type": "stream",
          "name": "stdout",
          "text": [
            "\n",
            "Running initial scoring function 10 times in 1 thread(s)..."
          ]
        }
      ],
      "source": [
        "# Cargar datos y preparar entorno\n",
        "set.seed(125813)\n",
        "dtrain <- dataset[foto_mes == 202107]\n",
        "dfuture <- dataset[foto_mes == 202109]\n",
        "campos_buenos <- setdiff(colnames(dtrain), \"clase_ternaria\")\n",
        "\n",
        "# Función objetivo para evaluación\n",
        "funcion_objetivo <- function(cp, minsplit, minbucket, maxdepth) {\n",
        "  resultados <- c()\n",
        "\n",
        "  for (i in 1:5) {\n",
        "    campos_random <- sample(campos_buenos, size = as.integer(length(campos_buenos) * 0.5))\n",
        "    formula <- as.formula(paste(\"clase_ternaria ~\", paste(campos_random, collapse = \" + \")))\n",
        "\n",
        "    modelo <- rpart(\n",
        "      formula = formula,\n",
        "      data = dtrain,\n",
        "      xval = 0,\n",
        "      control = rpart.control(\n",
        "        cp = cp,\n",
        "        minsplit = as.integer(minsplit),\n",
        "        minbucket = as.integer(minbucket),\n",
        "        maxdepth = as.integer(maxdepth)\n",
        "      )\n",
        "    )\n",
        "\n",
        "    # Aquí la métrica: suma de las probabilidades de \"BAJA+2\"\n",
        "    pred <- predict(modelo, dfuture, type = \"prob\")[, \"BAJA+2\"]\n",
        "    resultados <- c(resultados, sum(pred, na.rm = TRUE))\n",
        "  }\n",
        "\n",
        "  return(list(Score = mean(resultados)))\n",
        "}\n",
        "\n",
        "# Ejecutar Optimización Bayesiana\n",
        "optimizacion <- bayesOpt(\n",
        "  FUN = funcion_objetivo,\n",
        "  bounds = list(\n",
        "    cp = c(-0.5, -0.001),\n",
        "    minsplit = c(500L, 5000L),\n",
        "    minbucket = c(10L, 1000L),\n",
        "    maxdepth = c(4L, 30L)\n",
        "  ),\n",
        "  initPoints = 10,\n",
        "  iters.n = 20,\n",
        "  acq = \"ucb\",\n",
        "  kappa = 2.576,\n",
        "  verbose = 1\n",
        ")"
      ]
    },
    {
      "cell_type": "code",
      "source": [
        "# Mejores hiperparámetros y métrica\n",
        "# Mostrar mejores hiperparámetros\n",
        "print(getBestPars(optimizacion))"
      ],
      "metadata": {
        "colab": {
          "base_uri": "https://localhost:8080/"
        },
        "id": "FO0utQsldWIt",
        "outputId": "146d7955-a57b-4197-8d34-44651597a48c"
      },
      "execution_count": 7,
      "outputs": [
        {
          "output_type": "stream",
          "name": "stdout",
          "text": [
            "$cp\n",
            "[1] -0.001\n",
            "\n",
            "$minsplit\n",
            "[1] 3122\n",
            "\n",
            "$minbucket\n",
            "[1] 752\n",
            "\n",
            "$maxdepth\n",
            "[1] 4\n",
            "\n"
          ]
        }
      ]
    },
    {
      "cell_type": "code",
      "source": [
        "format(Sys.time(), \"%a %b %d %X %Y\")\n",
        "fin <- Sys.time()\n",
        "\n",
        "# Duración en segundos\n",
        "secs <- as.numeric(difftime(fin, principio, units = \"secs\"))\n",
        "secs <- round(secs)\n",
        "\n",
        "# A hh:mm:ss\n",
        "h <- secs %/% 3600\n",
        "m <- (secs %% 3600) %/% 60\n",
        "s <- secs %% 60\n",
        "dur_hms <- sprintf(\"%02d:%02d:%02d\", h, m, s)\n",
        "\n",
        "cat(\n",
        "  \"Inicio: \", format(principio, \"%a %b %d %X %Y\"), \"\\n\",\n",
        "  \"Fin:    \", format(fin,       \"%a %b %d %X %Y\"), \"\\n\",\n",
        "  \"Duración (hh:mm:ss): \", dur_hms, \"\\n\",\n",
        "  sep = \"\"\n",
        ")"
      ],
      "metadata": {
        "id": "S5X5FMjfExfY",
        "colab": {
          "base_uri": "https://localhost:8080/",
          "height": 88
        },
        "outputId": "223c1a96-9e07-4bf3-80c4-6c2de882c0d4"
      },
      "execution_count": 8,
      "outputs": [
        {
          "output_type": "display_data",
          "data": {
            "text/html": [
              "'Tue Oct 28 07:05:53 AM 2025'"
            ],
            "text/markdown": "'Tue Oct 28 07:05:53 AM 2025'",
            "text/latex": "'Tue Oct 28 07:05:53 AM 2025'",
            "text/plain": [
              "[1] \"Tue Oct 28 07:05:53 AM 2025\""
            ]
          },
          "metadata": {}
        },
        {
          "output_type": "stream",
          "name": "stdout",
          "text": [
            "Inicio: Tue Oct 28 04:27:16 AM 2025\n",
            "Fin:    Tue Oct 28 07:05:53 AM 2025\n",
            "Duración (hh:mm:ss): 02:38:37\n"
          ]
        }
      ]
    }
  ]
}